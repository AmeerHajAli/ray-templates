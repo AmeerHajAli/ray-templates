{
 "cells": [
  {
   "cell_type": "markdown",
   "metadata": {},
   "source": [
    "# Introduction to Ray\n",
    "\n",
    "## Getting started\n",
    "Please use the links below to open up the tutorials.\n",
    "\n",
    "1. [Remote Functions](./colab01-03.ipynb)\n",
    "2. [Remote Actors](./colab04-05.ipynb)\n",
    "3. [In-Order Task Processing](./colab06-07.ipynb)\n",
    "\n",
    "## Exercises\n",
    "\n",
    "Each file exercises/exercise*.ipynb is a separate exercise. They can be opened in from file browser on the left or the links below.\n",
    "\n",
    "Instructions are written in each file. To do each exercise, first run all of the cells in Jupyter lab. Then modify the ones that need to be modified in order to prevent any exceptions from being raised. Throughout these exercises, you may find the Ray documentation helpful.\n",
    "\n",
    "[Exercise 1](./exercise01-Introduction.ipynb): Define a remote function, and execute multiple remote functions in parallel.\n",
    "\n",
    "[Exercise 2](./exercise02-Task_Dependencies.ipynb): Execute remote functions in parallel with some dependencies.\n",
    "\n",
    "[Exercise 3](./exercise03-Nested_Remote_Functions.ipynb): Call remote functions from within remote functions.\n",
    "\n",
    "[Exercise 4](./exercise04-Actors.ipynb): Use actors to share state between tasks. See the documentation on using actors.\n",
    "\n",
    "[Exercise 5](./exercise05-Actor_Handles.ipynb): Pass actor handles to tasks so that multiple tasks can invoke methods on the same actor.\n",
    "\n",
    "[Exercise 6](./exercise06-Wait.ipynb): Use ray.wait to ignore stragglers. See the documentation for wait.\n",
    "\n",
    "[Exercise 7](./exercise07-Ordered_Wait.ipynb): Use ray.wait to process tasks in the order that they finish. See the documentation for wait.\n",
    "\n",
    "[Exercise 8](./exercise08-Serialization.ipynb): Use ray.put to avoid serializing and copying the same object into shared memory multiple times.\n",
    "\n",
    "[Exercise 9](./exercise09-GPUs.ipynb): Specify that an actor requires some GPUs. For a complete example that does something similar, you may want to see the ResNet example.\n",
    "\n",
    "[Exercise 10](./exercise10-Custom_Resources.ipynb): Specify that a remote function requires certain custom resources. See the documentation on custom resources.\n",
    "\n",
    "[Exercise 11](./exercise11-TensorFlow.ipynb): Extract neural network weights from an actor on one process, and set them in another actor. You may want to read the documentation on using Ray with TensorFlow.\n",
    "\n",
    "[Exercise 12](./exercise12-TreeReduce.ipynb): Pass object IDs into tasks to construct dependencies between tasks and perform a tree reduce.\n"
   ]
  }
 ],
 "metadata": {
  "kernelspec": {
   "display_name": "Python 3",
   "language": "python",
   "name": "python3"
  },
  "language_info": {
   "codemirror_mode": {
    "name": "ipython",
    "version": 3
   },
   "file_extension": ".py",
   "mimetype": "text/x-python",
   "name": "python",
   "nbconvert_exporter": "python",
   "pygments_lexer": "ipython3",
   "version": "3.7.6"
  }
 },
 "nbformat": 4,
 "nbformat_minor": 4
}